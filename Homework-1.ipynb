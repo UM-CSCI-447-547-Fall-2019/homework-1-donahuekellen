{
 "cells": [
  {
   "cell_type": "markdown",
   "metadata": {},
   "source": [
    "# Homework 1: Reading data and regression\n",
    "## Due September 5th\n",
    "\n",
    "In class we've been working on developing the tools for linear regression.  In this homework, we'll use those tools to show that one of the original 'big data' problems can be solved quite credibly with ordinary least squares.  Note that this exercise is primarily intended to do two things: 1) provide you with some practice gathering data, and 2) evaluate your ability to reason somewhat abstractly about models.  With respect to the second point, it is in your grade's interest to provide complete and well-reasoned answers to narrative questions posed.  A correct answer can be awarded very few points if its reasoning is absent or unclear, and an incorrect answer can be awarded full points if it is well argued.   \n",
    "\n",
    "Please turn in your work via github classroom.\n",
    "\n",
    "## The big one\n",
    "If you've ever lived in an area prone to seismic activity, you know that people are always a little apprehensive about *the big one*, that giant earthquake (Magnitude greater than 7) that is going to break the pots and collapse the overpasses.  However, the big one rarely happens... until it does.  What happens more frequently is smaller earthquakes.  And even more frequently than that, even smaller earthquakes.  In fact, it's long been understood that earthquake frequency has an inverse relationship with magnitude.  Here, we're going to quantify that relationship for the west coast of the US.  \n",
    "\n",
    "## Data wrangling\n",
    "The first thing that we'll need to do is to aquire a dataset that can help us say something about earthquake frequency.  Fortunately, the United States Geologic Survey keeps such a database.  \n",
    "\n",
    "First, navigate to https://earthquake.usgs.gov/earthquakes/search/.  This is the USGS' central repository for earthquake data.  We'll be interested in data from the last twenty years.  Enter the appropriate date.  Next, we're interested in data from the west coast of the lower 48.  Use the Custom Geographic Region button on the right side of the page, followed by the Draw Rectangle on the Map button.  Draw a rectangle around the west coast, from the Canadian to Mexican border.  Next, open the Output Options tab and select .csv (comma separated values, a plain text format).  Finally, under Limit Results, enter 19999 (the site will throw an error if you make this value bigger).  This series of commands will deliver the ~20k most recent earthquakes of all sizes to occur in this region of the world.  It may take a moment for their server to pull your query together. Download the file.\n",
    "\n",
    "Next, import the data into ipython.  This is easily done with [Pandas' read_csv function](https://pandas.pydata.org/pandas-docs/stable/reference/api/pandas.read_csv.html)."
   ]
  },
  {
   "cell_type": "code",
   "execution_count": 1,
   "metadata": {},
   "outputs": [],
   "source": [
    "# Use pandas to import the earthquake data file here\n",
    "import pandas as pd\n",
    "\n",
    "data = pd.read_csv('query.csv')\n"
   ]
  },
  {
   "cell_type": "markdown",
   "metadata": {},
   "source": [
    "Interrogate the Pandas dataframe for the available fields using its built in method 'keys'\n"
   ]
  },
  {
   "cell_type": "code",
   "execution_count": 3,
   "metadata": {},
   "outputs": [
    {
     "name": "stdout",
     "output_type": "stream",
     "text": [
      "Index(['time', 'latitude', 'longitude', 'depth', 'mag', 'magType', 'nst',\n",
      "       'gap', 'dmin', 'rms', 'net', 'id', 'updated', 'place', 'type',\n",
      "       'horizontalError', 'depthError', 'magError', 'magNst', 'status',\n",
      "       'locationSource', 'magSource'],\n",
      "      dtype='object')\n"
     ]
    }
   ],
   "source": [
    "print(data.keys())"
   ]
  },
  {
   "cell_type": "markdown",
   "metadata": {},
   "source": [
    "We're primarily interested in determining the relationship between relative frequency and magnitude.  Extract the magnitude variable from the pandas data frame using the 'mag' key.  \n",
    "\n",
    "Next, you'll need to determine the number of earthquakes that occured in the data as a function of magnitude.  This is easily done by deciding on a set of bins, and then counting the number of items in each bin.  This is also known as a [histogram](https://docs.scipy.org/doc/numpy/reference/generated/numpy.histogram.html), and is easily computed using either numpy or matplotlib.  You'll want to use a fairly large number of bins, say 50 (equally spaced).  *Note that the histogram function provided by either of the above libraries returns total counts rather than relative frequencies: you'll need to compute relative frequencies by dividing the returned counts by the total number of earthquakes in the dataset.*"
   ]
  },
  {
   "cell_type": "code",
   "execution_count": 21,
   "metadata": {},
   "outputs": [
    {
     "name": "stdout",
     "output_type": "stream",
     "text": [
      "[4119 3084 2497 2084 1808 1411  921  757  617  502  534  364  210  193\n",
      "  180  146  104  108   76   57   52   47   26   24   13   16    7    8\n",
      "    4    3    3    8    3    4    1    1    1    1    1    0    0    0\n",
      "    1    2    0    0    0    0    0    1] [2.05960298e-01 1.54207710e-01 1.24856243e-01 1.04205210e-01\n",
      " 9.04045202e-02 7.05535277e-02 4.60523026e-02 3.78518926e-02\n",
      " 3.08515426e-02 2.51012551e-02 2.67013351e-02 1.82009100e-02\n",
      " 1.05005250e-02 9.65048252e-03 9.00045002e-03 7.30036502e-03\n",
      " 5.20026001e-03 5.40027001e-03 3.80019001e-03 2.85014251e-03\n",
      " 2.60013001e-03 2.35011751e-03 1.30006500e-03 1.20006000e-03\n",
      " 6.50032502e-04 8.00040002e-04 3.50017501e-04 4.00020001e-04\n",
      " 2.00010001e-04 1.50007500e-04 1.50007500e-04 4.00020001e-04\n",
      " 1.50007500e-04 2.00010001e-04 5.00025001e-05 5.00025001e-05\n",
      " 5.00025001e-05 5.00025001e-05 5.00025001e-05 0.00000000e+00\n",
      " 0.00000000e+00 0.00000000e+00 5.00025001e-05 1.00005000e-04\n",
      " 0.00000000e+00 0.00000000e+00 0.00000000e+00 0.00000000e+00\n",
      " 0.00000000e+00 5.00025001e-05]\n"
     ]
    }
   ],
   "source": [
    "import numpy as np\n",
    "magnitude = data['mag']\n",
    "bins = np.histogram(magnitude, 50)\n",
    "freq = [count/len(magnitude) for count in hist]\n",
    "print(bins[0],freq[0])"
   ]
  },
  {
   "cell_type": "markdown",
   "metadata": {},
   "source": [
    "**(20 pts) Make a plot with bin centroids on the $x$-axis and relative frequency on the $y$-axis.  Based on your results, please provide a few sentences describing whether the model $y = w_0 + w_1 x$ is a good fit to the data, if $x$ represents earthquake magnitude and $y$ represents relative frequency.**\n",
    "\n",
    "The data shows a strong linear relationship between the earthquake magnitudes and their relative frequency. Therefore a linear model should fit the data very well."
   ]
  },
  {
   "cell_type": "code",
   "execution_count": 22,
   "metadata": {
    "scrolled": true
   },
   "outputs": [
    {
     "data": {
      "image/png": "[encoded data removed]",
      "text/plain": [
       "<Figure size 432x288 with 1 Axes>"
      ]
     },
     "metadata": {
      "needs_background": "light"
     },
     "output_type": "display_data"
    }
   ],
   "source": [
    "import matplotlib.pyplot as plt\n",
    "plt.scatter(bins[0],freq[0])\n",
    "plt.show()"
   ]
  },
  {
   "cell_type": "markdown",
   "metadata": {},
   "source": [
    "As it turns out, a physical model that gives the predicted relative frequency of earthquakes of different magnitudes can be derived from physics, and is given by a so-called *power-law*\n",
    "$$\n",
    "y = ax^b\n",
    "$$\n",
    "**(20pts) If you wanted to directly fit this power-law model to these data, would you be able to use the linear regression code that we've already developed to do so?  If so, how?  If not, why not?**\n",
    "\n",
    "The physical model isn't linear so fitting a line to it wouldn't work well since it wouldn't be able to follow the curve of the model."
   ]
  },
  {
   "cell_type": "markdown",
   "metadata": {},
   "source": [
    "As it turns out, it is not possible to use linear regression to fit this model directly.  However, it can be done by using a clever transformation of the data.  **(20pts) Plot the base-10 logarithm of the event counts.  Now does a linear model seem like a good fit?  If the power law is a good fit to the untransformed data, why does it make sense that a linear model should fit the log-transformed data (HINT: take the logarithm of both sides of the power law)**\n",
    "\n",
    "**(UPDATE!)** I should have noted this before: The earthquake magnitude $x$ has *already* been log-transformed, which is to say that a magnitude 7 is 10 times more powerful than a magnitude 6.  The power law stated above applies to the earthquake strength prior to it having the logarithm taken.  As such, a more reasonable way to state the question would be as follows: A physical model that gives the predicted relative frequency of earthquakes of different magnitudes can be derived from physics and is given by a so-called *power-law*\n",
    "$$\n",
    "y = a P^b,\n",
    "$$\n",
    "where $P=10^x$. Show that taking the logarithm of both sides of this equation leads to a linear relationship between the earthquake magnitude $x$ and the log-frequency $\\text{log}_{10}(y)$. \n",
    "\n",
    "$y = a P^b$\n",
    "\n",
    "$y = a 10^{xb}$\n",
    "\n",
    "\n",
    "$\\text{log}_{10}(y)$ = $\\text{log}_{10}(a 10^{xb})$\n",
    "\n",
    "$\\text{log}_{10}(y)$ = $\\text{log}_{10}(a) + \\text{log}_{10}(10^{xb})$\n",
    "\n",
    "$\\text{log}_{10}(y)$ = $\\text{log}_{10}(a) + x b*\\text{log}_{10}(10)$\n",
    "\n",
    "$\\text{log}_{10}(y)$ = $\\text{log}_{10}(a) + x b*1$\n",
    "\n",
    "$\\text{log}_{10}(y)$ = $\\text{log}_{10}(a) + x b$\n",
    "\n",
    "let $c = \\text{log}_{10}(a)$\n",
    "\n",
    "$\\text{log}_{10}(y)$ = $c + b x.$\n",
    "\n",
    "Therefore taking the log of both sides leads to a linear relationship between the two.\n",
    "\n",
    "\n"
   ]
  },
  {
   "cell_type": "markdown",
   "metadata": {},
   "source": [
    "Finally, **(40pts) use one of the methods that you developed for linear regression in class to fit a line to the log-transformed counts.  What is the slope of that line?  Is the model a good fit for all sizes of earthquake?**\n",
    "\n",
    "The slope of the line is .00005. Visually the model fits every earthquake size well and this is supported by the low MSE of 1.135."
   ]
  },
  {
   "cell_type": "code",
   "execution_count": 33,
   "metadata": {},
   "outputs": [
    {
     "name": "stdout",
     "output_type": "stream",
     "text": [
      "intercept:  -1.0408340855860843e-17 slope:  5.0002500125006255e-05 mean square error:  1.1353871935898914\n"
     ]
    },
    {
     "data": {
      "image/png": "[encoded data removed]",
      "text/plain": [
       "<Figure size 432x288 with 1 Axes>"
      ]
     },
     "metadata": {
      "needs_background": "light"
     },
     "output_type": "display_data"
    }
   ],
   "source": [
    "x = np.ones((len(bins[0]),2))\n",
    "x[:,1] = bins[0]\n",
    "xtx = np.matmul(x.transpose(),x)\n",
    "xty = np.matmul(x.transpose(),freq[0])\n",
    "xtxinv = np.linalg.inv(xtx)\n",
    "w = np.matmul(xtxinv,xty)\n",
    "xs = np.linspace(min(bins[0]),max(bins[0]),len(bins))\n",
    "y = [w[0]+w[1]*xi for xi in xs]\n",
    "error = 0\n",
    "for i in range(len(freq)):\n",
    "    error += sum((y[i]-freq[i])**2) \n",
    "\n",
    "print('intercept: ', w[0], 'slope: ', w[1], 'mean square error: ', error/len(freq))\n",
    "plt.scatter(bins[0],freq[0])\n",
    "plt.plot(xs,y)\n",
    "plt.show()\n",
    "\n"
   ]
  },
  {
   "cell_type": "code",
   "execution_count": null,
   "metadata": {},
   "outputs": [],
   "source": []
  }
 ],
 "metadata": {
  "kernelspec": {
   "display_name": "Python 3",
   "language": "python",
   "name": "python3"
  },
  "language_info": {
   "codemirror_mode": {
    "name": "ipython",
    "version": 3
   },
   "file_extension": ".py",
   "mimetype": "text/x-python",
   "name": "python",
   "nbconvert_exporter": "python",
   "pygments_lexer": "ipython3",
   "version": "3.7.1"
  }
 },
 "nbformat": 4,
 "nbformat_minor": 2
}
